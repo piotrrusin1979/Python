{
 "cells": [
  {
   "cell_type": "markdown",
   "metadata": {},
   "source": [
    "# Instalacja Python 3.5 Anaconda i Django 1.9\n",
    "\n",
    "## Anaconda\n",
    "\n",
    "ze strony:\n",
    "https://www.continuum.io/downloads  \n",
    "\n",
    "Windows:\n",
    "http://repo.continuum.io/archive/Anaconda3-4.0.0-Windows-x86_64.exe\n",
    "\n",
    "Linux:\n",
    "http://repo.continuum.io/archive/Anaconda3-4.0.0-Linux-x86_64.sh\n",
    "\n"
   ]
  },
  {
   "cell_type": "raw",
   "metadata": {},
   "source": [
    "Upewnij się, że w zmiennej PATH Python 3 jest przed 2 :)\n",
    "cmd\n",
    "set \n",
    "PATH=(...);C:\\Program Files\\Git\\usr\\bin;C:\\Anaconda3;C:\\Anaconda3\\Scripts;C:\\Anaconda3\\Library\\bin;C:\\Python27;C:\\Python27\\Scripts\n",
    "\n",
    "c:\\Users\\Mikolaj\\Jupyter>python\n",
    "Python 3.5.1 |Anaconda 4.0.0 (64-bit)| (default, Feb 16 2016, 09:49:46) [MSC v.1\n",
    "900 64 bit (AMD64)] on win32\n",
    "Type \"help\", \"copyright\", \"credits\" or \"license\" for more information.\n",
    ">>> \n",
    "\n",
    ">>> exit\n",
    "Use exit() or Ctrl-Z plus Return to exit\n",
    ">>> exit()"
   ]
  },
  {
   "cell_type": "markdown",
   "metadata": {},
   "source": [
    "## Notebook\n",
    "c:\\Users\\Mikolaj\\Jupyter>jupyter notebook\n",
    "    "
   ]
  },
  {
   "cell_type": "markdown",
   "metadata": {},
   "source": [
    "## Virtual Environment\n",
    "\n",
    "Utwórz środowisko virtalne aby nie popsujć innych aplikacji\n"
   ]
  },
  {
   "cell_type": "raw",
   "metadata": {},
   "source": [
    "c:\\KodyPy3>python -m venv VOX_1.0"
   ]
  },
  {
   "cell_type": "markdown",
   "metadata": {},
   "source": [
    "## Django\n",
    "\n",
    "http://tutorial.djangogirls.org/pl/django_installation/"
   ]
  },
  {
   "cell_type": "raw",
   "metadata": {},
   "source": [
    "c:\\KodyPy3>cd VOX_1.0\n",
    "\n",
    "c:\\KodyPy3\\VOX_1.0>dir\n",
    "\n",
    " Katalog: c:\\KodyPy3\\VOX_1.0\n",
    "\n",
    "2016-05-24  11:43    <DIR>          .\n",
    "2016-05-24  11:43    <DIR>          ..\n",
    "2016-05-24  11:43    <DIR>          Include\n",
    "2016-05-24  11:43    <DIR>          Lib\n",
    "2016-05-24  11:43                76 pyvenv.cfg\n",
    "2016-05-24  11:43    <DIR>          Scripts\n",
    "               1 plik(ów)                 76 bajtów\n",
    "               5 katalog(ów)  30 566 469 632 bajtów wolnych\n"
   ]
  },
  {
   "cell_type": "markdown",
   "metadata": {},
   "source": [
    "### Uruchom virtual environment"
   ]
  },
  {
   "cell_type": "raw",
   "metadata": {},
   "source": [
    "c:\\KodyPy3\\VOX_1.0>cd Scripts\n",
    "\n",
    "c:\\KodyPy3\\VOX_1.0\\Scripts>activate.bat\n",
    "(VOX_1.0) c:\\KodyPy3\\VOX_1.0\\Scripts>"
   ]
  },
  {
   "cell_type": "markdown",
   "metadata": {},
   "source": [
    "### Zainstaluj Django"
   ]
  },
  {
   "cell_type": "raw",
   "metadata": {},
   "source": [
    "(VOX_1.0) c:\\KodyPy3\\VOX_1.0\\Scripts>pip install django\n",
    "Collecting django\n",
    "  Downloading Django-1.9.6-py2.py3-none-any.whl (6.6MB)\n",
    "    100% |################################| 6.6MB 79kB/s\n",
    "Installing collected packages: django\n",
    "Successfully installed django-1.9.6\n",
    "You are using pip version 7.1.2, however version 8.1.2 is available.\n",
    "You should consider upgrading via the 'python -m pip install --upgrade pip' comm\n",
    "and.\n",
    "\n",
    "(VOX_1.0) c:\\KodyPy3\\VOX_1.0\\Scripts>cd ..\n"
   ]
  },
  {
   "cell_type": "markdown",
   "metadata": {},
   "source": [
    "### Utwórz w Django nowy projekt np. \"vox\""
   ]
  },
  {
   "cell_type": "raw",
   "metadata": {},
   "source": [
    "django-admin startproject vox ."
   ]
  },
  {
   "cell_type": "markdown",
   "metadata": {},
   "source": [
    "__Pamiętaj o KROPCE na końcu polecenia !!!!! Bez niej nie działa /static (na Windows7)__"
   ]
  },
  {
   "cell_type": "raw",
   "metadata": {},
   "source": [
    "(VOX_1.0) c:\\KodyPy3\\VOX_1.0>django-admin startproject vox .\n",
    "\n",
    "(VOX_1.0) c:\\KodyPy3\\VOX_1.0>cd vox\n",
    "\n",
    "(VOX_1.0) c:\\KodyPy3\\VOX_1.0\\vox>dir\n",
    "\n",
    " Katalog: c:\\KodyPy3\\VOX_1.0\\vox\n",
    "\n",
    "2016-05-24  12:09    <DIR>          .\n",
    "2016-05-24  12:09    <DIR>          ..\n",
    "2016-05-24  12:09               246 manage.py\n",
    "2016-05-24  12:09    <DIR>          vox\n",
    "               1 plik(ów)                246 bajtów\n",
    "               3 katalog(ów)  30 622 806 016 bajtów wolnych\n",
    "\n",
    "(VOX_1.0) c:\\KodyPy3\\VOX_1.0\\vox>"
   ]
  },
  {
   "cell_type": "markdown",
   "metadata": {},
   "source": [
    "Uruchom serwer developerski Django\n",
    ">python manage.py runserver"
   ]
  },
  {
   "cell_type": "raw",
   "metadata": {},
   "source": [
    "(VOX_1.0) c:\\KodyPy3\\VOX_1.0\\vox>python manage.py runserver\n",
    "Performing system checks...\n",
    "\n",
    "System check identified no issues (0 silenced).\n",
    "\n",
    "You have unapplied migrations; your app may not work properly until they are app\n",
    "lied.\n",
    "Run 'python manage.py migrate' to apply them.\n",
    "May 24, 2016 - 12:15:27\n",
    "Django version 1.9.6, using settings 'vox.settings'\n",
    "Starting development server at http://127.0.0.1:8000/\n",
    "Quit the server with CTRL-BREAK."
   ]
  },
  {
   "cell_type": "markdown",
   "metadata": {},
   "source": [
    "Otwórz w przeglądarce adres: http://127.0.0.1:8000/\n",
    "\n",
    "Możesz zmienić port:\n",
    "> python manage.py runserver 0:8000"
   ]
  },
  {
   "cell_type": "markdown",
   "metadata": {},
   "source": [
    "### Ustaw język i strefę czasową na Polski\n",
    "\n",
    "wpisz w pliku settings.py"
   ]
  },
  {
   "cell_type": "code",
   "execution_count": 5,
   "metadata": {
    "collapsed": true
   },
   "outputs": [],
   "source": [
    "# Internationalization\n",
    "# https://docs.djangoproject.com/en/1.9/topics/i18n/\n",
    "\n",
    "TIME_ZONE = 'Europe/Warsaw'\n",
    "USE_TZ = True\n",
    "USE_I18N = True\n",
    "USE_L10N = True\n",
    "LANGUAGE_CODE = 'pl'\n",
    "LANGUAGES = (\n",
    "    ('pl', 'Polish'),\n",
    ")"
   ]
  },
  {
   "cell_type": "markdown",
   "metadata": {},
   "source": [
    "### Ustaw ścieżkę do plików statycznych\n",
    "\n",
    "wpisz w pliku settings.py"
   ]
  },
  {
   "cell_type": "raw",
   "metadata": {},
   "source": [
    "STATIC_ROOT = os.path.join(BASE_DIR, \"static\")"
   ]
  },
  {
   "cell_type": "markdown",
   "metadata": {},
   "source": [
    "### Ustaw ścieżkę i nazwę bazy danych\n",
    "\n",
    "wpisz w pliku settings.py np. 'db.sqlite3'"
   ]
  },
  {
   "cell_type": "raw",
   "metadata": {},
   "source": [
    "# Database\n",
    "# https://docs.djangoproject.com/en/1.9/ref/settings/#databases\n",
    "\n",
    "DATABASES = {\n",
    "    'default': {\n",
    "        'ENGINE': 'django.db.backends.sqlite3',\n",
    "        'NAME': os.path.join(BASE_DIR, 'db.sqlite3'),\n",
    "    }\n",
    "}"
   ]
  },
  {
   "cell_type": "markdown",
   "metadata": {},
   "source": [
    "### Utwórz aplikację tlog (Teacher's Log)"
   ]
  },
  {
   "cell_type": "raw",
   "metadata": {},
   "source": [
    "(VOX_1.0) c:\\KodyPy3\\VOX_1.0\\vox>python manage.py startapp tlog "
   ]
  },
  {
   "cell_type": "markdown",
   "metadata": {},
   "source": [
    "Daj znać o niej Django. Wpisz w settings.py:"
   ]
  },
  {
   "cell_type": "code",
   "execution_count": 6,
   "metadata": {
    "collapsed": true
   },
   "outputs": [],
   "source": [
    "# Application definition\n",
    "\n",
    "INSTALLED_APPS = [\n",
    "    'django.contrib.admin',\n",
    "    'django.contrib.auth',\n",
    "    'django.contrib.contenttypes',\n",
    "    'django.contrib.sessions',\n",
    "    'django.contrib.messages',\n",
    "    'django.contrib.staticfiles',\n",
    "    'tlog',\n",
    "]\n"
   ]
  },
  {
   "cell_type": "markdown",
   "metadata": {},
   "source": [
    "Utwórz model np. dla wpisu na blogu może on wyglądać tak:"
   ]
  },
  {
   "cell_type": "code",
   "execution_count": null,
   "metadata": {
    "collapsed": false
   },
   "outputs": [],
   "source": [
    "from django.db import models\n",
    "from django.utils import timezone\n",
    "\n",
    "\n",
    "class Post(models.Model):\n",
    "    author = models.ForeignKey('auth.User')\n",
    "    title = models.CharField(max_length=200)\n",
    "    text = models.TextField()\n",
    "    created_date = models.DateTimeField(\n",
    "            default=timezone.now)\n",
    "    published_date = models.DateTimeField(\n",
    "            blank=True, null=True)\n",
    "\n",
    "    def publish(self):\n",
    "        self.published_date = timezone.now()\n",
    "        self.save()\n",
    "\n",
    "    def __str__(self):\n",
    "        return self.title"
   ]
  },
  {
   "cell_type": "markdown",
   "metadata": {},
   "source": [
    "### Uaktualnij bazę danych \n",
    "(zsynchronizuj? zmigruj?, kiedyś to było polecenie: python manage.py syncdb)\n",
    ">python manage.py migrate"
   ]
  },
  {
   "cell_type": "raw",
   "metadata": {},
   "source": [
    "(VOX_1.0) c:\\KodyPy3\\VOX_1.0\\vox>python manage.py migrate\n",
    "Operations to perform:\n",
    "  Apply all migrations: sessions, auth, contenttypes, admin\n",
    "Running migrations:\n",
    "  Rendering model states... DONE\n",
    "  Applying contenttypes.0001_initial... OK\n",
    "  Applying auth.0001_initial... OK\n",
    "  Applying admin.0001_initial... OK\n",
    "  Applying admin.0002_logentry_remove_auto_add... OK\n",
    "  Applying contenttypes.0002_remove_content_type_name... OK\n",
    "  Applying auth.0002_alter_permission_name_max_length... OK\n",
    "  Applying auth.0003_alter_user_email_max_length... OK\n",
    "  Applying auth.0004_alter_user_username_opts... OK\n",
    "  Applying auth.0005_alter_user_last_login_null... OK\n",
    "  Applying auth.0006_require_contenttypes_0002... OK\n",
    "  Applying auth.0007_alter_validators_add_error_messages... OK\n",
    "  Applying sessions.0001_initial... OK\n",
    "\n",
    "(VOX_1.0) c:\\KodyPy3\\VOX_1.0\\vox>\n"
   ]
  },
  {
   "cell_type": "raw",
   "metadata": {},
   "source": [
    "python manage.py makemigrations tlog"
   ]
  },
  {
   "cell_type": "raw",
   "metadata": {},
   "source": [
    "(VOX_1.0) c:\\KodyPy3\\VOX_1.0\\vox>python manage.py migrate tlog\n",
    "Operations to perform:\n",
    "  Apply all migrations: tlog\n",
    "Running migrations:\n",
    "  Rendering model states... DONE\n",
    "  Applying tlog.0001_initial... OK\n",
    "\n",
    "(VOX_1.0) c:\\KodyPy3\\VOX_1.0\\vox>"
   ]
  },
  {
   "cell_type": "markdown",
   "metadata": {},
   "source": [
    "Otwórz plik tlog/admin.py i zastąp jego zawartość poniższym:"
   ]
  },
  {
   "cell_type": "code",
   "execution_count": null,
   "metadata": {
    "collapsed": true
   },
   "outputs": [],
   "source": [
    "from django.contrib import admin\n",
    "from .models import Post\n",
    "\n",
    "admin.site.register(Post)"
   ]
  },
  {
   "cell_type": "markdown",
   "metadata": {},
   "source": [
    "## Zobacz co wyszło?\n",
    "\n",
    "> python manage.py runserver \n",
    "\n",
    "Przejdź do przeglądarki i wpisz adres http://127.0.0.1:8000/admin/ \n"
   ]
  },
  {
   "cell_type": "raw",
   "metadata": {},
   "source": [
    "python manage.py createsuperuser"
   ]
  }
 ],
 "metadata": {
  "kernelspec": {
   "display_name": "Python 3",
   "language": "python",
   "name": "python3"
  },
  "language_info": {
   "codemirror_mode": {
    "name": "ipython",
    "version": 3
   },
   "file_extension": ".py",
   "mimetype": "text/x-python",
   "name": "python",
   "nbconvert_exporter": "python",
   "pygments_lexer": "ipython3",
   "version": "3.5.1"
  }
 },
 "nbformat": 4,
 "nbformat_minor": 0
}
